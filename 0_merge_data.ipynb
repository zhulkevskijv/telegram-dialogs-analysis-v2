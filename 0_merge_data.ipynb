{
 "cells": [
  {
   "cell_type": "code",
   "execution_count": 1,
   "id": "09b4e301",
   "metadata": {},
   "outputs": [],
   "source": [
    "import os\n",
    "import pandas as pd\n",
    "import glob"
   ]
  },
  {
   "cell_type": "code",
   "execution_count": 2,
   "id": "d076df7c",
   "metadata": {},
   "outputs": [],
   "source": [
    "DIALOGS_DATA_PATH = \"../data/dialogs\"\n",
    "DIALOGS_META_DATA_PATH = \"../data/dialogs_meta\"\n",
    "\n",
    "MERGED_DATA_PATH = \"../data/merged_data\""
   ]
  },
  {
   "cell_type": "code",
   "execution_count": 3,
   "id": "65a13565",
   "metadata": {},
   "outputs": [
    {
     "name": "stdout",
     "output_type": "stream",
     "text": [
      "\u001B[1m\u001B[36mdialogs\u001B[m\u001B[m      \u001B[1m\u001B[36mdialogs_meta\u001B[m\u001B[m \u001B[1m\u001B[36mmerged_data\u001B[m\u001B[m\r\n"
     ]
    }
   ],
   "source": [
    "!ls ../data/"
   ]
  },
  {
   "cell_type": "code",
   "execution_count": 4,
   "id": "6d0eddab",
   "metadata": {},
   "outputs": [],
   "source": [
    "dialogs_data_files = glob.glob(f\"{DIALOGS_DATA_PATH}/*.csv\")\n",
    "dialogs_meta_data_files = glob.glob(f\"{DIALOGS_META_DATA_PATH}/*.json\")"
   ]
  },
  {
   "cell_type": "markdown",
   "id": "78cc73b6",
   "metadata": {},
   "source": [
    "## merging all dialogs_data (csv files) into one"
   ]
  },
  {
   "cell_type": "code",
   "execution_count": 5,
   "id": "4d582c3b",
   "metadata": {},
   "outputs": [],
   "source": [
    "df_array = []\n",
    "\n",
    "for d in dialogs_data_files:\n",
    "    local_df = pd.read_csv(d)\n",
    "    local_df[\"dialog_id\"] = os.path.basename(d).split(\".\")[0]\n",
    "    \n",
    "    df_array.append(local_df)\n",
    "    \n",
    "df = pd.concat(df_array, ignore_index=True)"
   ]
  },
  {
   "cell_type": "code",
   "execution_count": 6,
   "id": "4d83eb47",
   "metadata": {},
   "outputs": [
    {
     "data": {
      "text/plain": [
       "(2576905, 10)"
      ]
     },
     "execution_count": 6,
     "metadata": {},
     "output_type": "execute_result"
    }
   ],
   "source": [
    "df.shape"
   ]
  },
  {
   "cell_type": "code",
   "execution_count": 7,
   "id": "96e470a8",
   "metadata": {},
   "outputs": [],
   "source": [
    "if not os.path.isdir(MERGED_DATA_PATH):\n",
    "    os.mkdir(MERGED_DATA_PATH)\n",
    "\n",
    "if \"Unnamed: 0\" in df:\n",
    "    df = df.drop([\"Unnamed: 0\"], axis=True)\n",
    "    \n",
    "df.to_csv(f\"{MERGED_DATA_PATH}/dialogs_data_all.csv\", index=False)"
   ]
  },
  {
   "cell_type": "code",
   "execution_count": 8,
   "id": "16776850",
   "metadata": {},
   "outputs": [
    {
     "data": {
      "text/plain": [
       "(2576905, 9)"
      ]
     },
     "execution_count": 8,
     "metadata": {},
     "output_type": "execute_result"
    }
   ],
   "source": [
    "df.shape"
   ]
  },
  {
   "cell_type": "code",
   "execution_count": 9,
   "id": "4672e8ce",
   "metadata": {},
   "outputs": [
    {
     "data": {
      "text/html": [
       "<div>\n",
       "<style scoped>\n",
       "    .dataframe tbody tr th:only-of-type {\n",
       "        vertical-align: middle;\n",
       "    }\n",
       "\n",
       "    .dataframe tbody tr th {\n",
       "        vertical-align: top;\n",
       "    }\n",
       "\n",
       "    .dataframe thead th {\n",
       "        text-align: right;\n",
       "    }\n",
       "</style>\n",
       "<table border=\"1\" class=\"dataframe\">\n",
       "  <thead>\n",
       "    <tr style=\"text-align: right;\">\n",
       "      <th></th>\n",
       "      <th>id</th>\n",
       "      <th>date</th>\n",
       "      <th>from_id</th>\n",
       "      <th>to_id</th>\n",
       "      <th>fwd_from</th>\n",
       "      <th>message</th>\n",
       "      <th>type</th>\n",
       "      <th>duration</th>\n",
       "      <th>dialog_id</th>\n",
       "    </tr>\n",
       "  </thead>\n",
       "  <tbody>\n",
       "    <tr>\n",
       "      <th>0</th>\n",
       "      <td>879</td>\n",
       "      <td>2021-04-29 09:10:56+00:00</td>\n",
       "      <td>PeerUser(user_id=383618515)</td>\n",
       "      <td>PeerChannel(channel_id=1480379241)</td>\n",
       "      <td>NaN</td>\n",
       "      <td>дяки ❤️</td>\n",
       "      <td>text</td>\n",
       "      <td>NaN</td>\n",
       "      <td>-1001480379241</td>\n",
       "    </tr>\n",
       "    <tr>\n",
       "      <th>1</th>\n",
       "      <td>878</td>\n",
       "      <td>2021-04-29 09:09:44+00:00</td>\n",
       "      <td>PeerUser(user_id=281396127)</td>\n",
       "      <td>PeerChannel(channel_id=1480379241)</td>\n",
       "      <td>NaN</td>\n",
       "      <td>Просто чаще всего добавляются неофициальные и ...</td>\n",
       "      <td>text</td>\n",
       "      <td>NaN</td>\n",
       "      <td>-1001480379241</td>\n",
       "    </tr>\n",
       "    <tr>\n",
       "      <th>2</th>\n",
       "      <td>877</td>\n",
       "      <td>2021-04-29 09:09:17+00:00</td>\n",
       "      <td>PeerUser(user_id=281396127)</td>\n",
       "      <td>PeerChannel(channel_id=1480379241)</td>\n",
       "      <td>NaN</td>\n",
       "      <td>Привет, вроде как да</td>\n",
       "      <td>text</td>\n",
       "      <td>NaN</td>\n",
       "      <td>-1001480379241</td>\n",
       "    </tr>\n",
       "    <tr>\n",
       "      <th>3</th>\n",
       "      <td>876</td>\n",
       "      <td>2021-04-29 09:05:30+00:00</td>\n",
       "      <td>PeerUser(user_id=383618515)</td>\n",
       "      <td>PeerChannel(channel_id=1480379241)</td>\n",
       "      <td>NaN</td>\n",
       "      <td>чи інша кількість ?</td>\n",
       "      <td>text</td>\n",
       "      <td>NaN</td>\n",
       "      <td>-1001480379241</td>\n",
       "    </tr>\n",
       "    <tr>\n",
       "      <th>4</th>\n",
       "      <td>875</td>\n",
       "      <td>2021-04-29 09:05:24+00:00</td>\n",
       "      <td>PeerUser(user_id=383618515)</td>\n",
       "      <td>PeerChannel(channel_id=1480379241)</td>\n",
       "      <td>NaN</td>\n",
       "      <td>таке запитаннячко: офіційно ж можливо дві пере...</td>\n",
       "      <td>text</td>\n",
       "      <td>NaN</td>\n",
       "      <td>-1001480379241</td>\n",
       "    </tr>\n",
       "    <tr>\n",
       "      <th>5</th>\n",
       "      <td>874</td>\n",
       "      <td>2021-04-29 09:05:06+00:00</td>\n",
       "      <td>PeerUser(user_id=383618515)</td>\n",
       "      <td>PeerChannel(channel_id=1480379241)</td>\n",
       "      <td>NaN</td>\n",
       "      <td>Привітики 👋</td>\n",
       "      <td>text</td>\n",
       "      <td>NaN</td>\n",
       "      <td>-1001480379241</td>\n",
       "    </tr>\n",
       "    <tr>\n",
       "      <th>6</th>\n",
       "      <td>873</td>\n",
       "      <td>2021-02-26 10:52:19+00:00</td>\n",
       "      <td>PeerUser(user_id=383618515)</td>\n",
       "      <td>PeerChannel(channel_id=1480379241)</td>\n",
       "      <td>NaN</td>\n",
       "      <td>так</td>\n",
       "      <td>text</td>\n",
       "      <td>NaN</td>\n",
       "      <td>-1001480379241</td>\n",
       "    </tr>\n",
       "    <tr>\n",
       "      <th>7</th>\n",
       "      <td>872</td>\n",
       "      <td>2021-02-26 10:45:56+00:00</td>\n",
       "      <td>PeerUser(user_id=383618515)</td>\n",
       "      <td>PeerChannel(channel_id=1480379241)</td>\n",
       "      <td>NaN</td>\n",
       "      <td>вона тоді б з бюджету злетіла</td>\n",
       "      <td>text</td>\n",
       "      <td>NaN</td>\n",
       "      <td>-1001480379241</td>\n",
       "    </tr>\n",
       "    <tr>\n",
       "      <th>8</th>\n",
       "      <td>871</td>\n",
       "      <td>2021-02-26 10:45:37+00:00</td>\n",
       "      <td>PeerUser(user_id=383618515)</td>\n",
       "      <td>PeerChannel(channel_id=1480379241)</td>\n",
       "      <td>NaN</td>\n",
       "      <td>немає</td>\n",
       "      <td>text</td>\n",
       "      <td>NaN</td>\n",
       "      <td>-1001480379241</td>\n",
       "    </tr>\n",
       "    <tr>\n",
       "      <th>9</th>\n",
       "      <td>870</td>\n",
       "      <td>2021-02-26 09:02:57+00:00</td>\n",
       "      <td>PeerUser(user_id=61792181)</td>\n",
       "      <td>PeerChannel(channel_id=1480379241)</td>\n",
       "      <td>NaN</td>\n",
       "      <td>Може академзаборгованість?</td>\n",
       "      <td>text</td>\n",
       "      <td>NaN</td>\n",
       "      <td>-1001480379241</td>\n",
       "    </tr>\n",
       "  </tbody>\n",
       "</table>\n",
       "</div>"
      ],
      "text/plain": [
       "    id                       date                      from_id  \\\n",
       "0  879  2021-04-29 09:10:56+00:00  PeerUser(user_id=383618515)   \n",
       "1  878  2021-04-29 09:09:44+00:00  PeerUser(user_id=281396127)   \n",
       "2  877  2021-04-29 09:09:17+00:00  PeerUser(user_id=281396127)   \n",
       "3  876  2021-04-29 09:05:30+00:00  PeerUser(user_id=383618515)   \n",
       "4  875  2021-04-29 09:05:24+00:00  PeerUser(user_id=383618515)   \n",
       "5  874  2021-04-29 09:05:06+00:00  PeerUser(user_id=383618515)   \n",
       "6  873  2021-02-26 10:52:19+00:00  PeerUser(user_id=383618515)   \n",
       "7  872  2021-02-26 10:45:56+00:00  PeerUser(user_id=383618515)   \n",
       "8  871  2021-02-26 10:45:37+00:00  PeerUser(user_id=383618515)   \n",
       "9  870  2021-02-26 09:02:57+00:00   PeerUser(user_id=61792181)   \n",
       "\n",
       "                                to_id fwd_from  \\\n",
       "0  PeerChannel(channel_id=1480379241)      NaN   \n",
       "1  PeerChannel(channel_id=1480379241)      NaN   \n",
       "2  PeerChannel(channel_id=1480379241)      NaN   \n",
       "3  PeerChannel(channel_id=1480379241)      NaN   \n",
       "4  PeerChannel(channel_id=1480379241)      NaN   \n",
       "5  PeerChannel(channel_id=1480379241)      NaN   \n",
       "6  PeerChannel(channel_id=1480379241)      NaN   \n",
       "7  PeerChannel(channel_id=1480379241)      NaN   \n",
       "8  PeerChannel(channel_id=1480379241)      NaN   \n",
       "9  PeerChannel(channel_id=1480379241)      NaN   \n",
       "\n",
       "                                             message  type  duration  \\\n",
       "0                                            дяки ❤️  text       NaN   \n",
       "1  Просто чаще всего добавляются неофициальные и ...  text       NaN   \n",
       "2                               Привет, вроде как да  text       NaN   \n",
       "3                                чи інша кількість ?  text       NaN   \n",
       "4  таке запитаннячко: офіційно ж можливо дві пере...  text       NaN   \n",
       "5                                        Привітики 👋  text       NaN   \n",
       "6                                                так  text       NaN   \n",
       "7                      вона тоді б з бюджету злетіла  text       NaN   \n",
       "8                                              немає  text       NaN   \n",
       "9                         Може академзаборгованість?  text       NaN   \n",
       "\n",
       "        dialog_id  \n",
       "0  -1001480379241  \n",
       "1  -1001480379241  \n",
       "2  -1001480379241  \n",
       "3  -1001480379241  \n",
       "4  -1001480379241  \n",
       "5  -1001480379241  \n",
       "6  -1001480379241  \n",
       "7  -1001480379241  \n",
       "8  -1001480379241  \n",
       "9  -1001480379241  "
      ]
     },
     "execution_count": 9,
     "metadata": {},
     "output_type": "execute_result"
    }
   ],
   "source": [
    "df.head(10)"
   ]
  },
  {
   "cell_type": "code",
   "execution_count": 10,
   "id": "d1bd96f3",
   "metadata": {},
   "outputs": [
    {
     "data": {
      "text/plain": [
       "('2016-02-01 13:34:12+00:00', '2022-11-01 01:01:34+00:00')"
      ]
     },
     "execution_count": 10,
     "metadata": {},
     "output_type": "execute_result"
    }
   ],
   "source": [
    "min(df[\"date\"]),max(df[\"date\"])"
   ]
  },
  {
   "cell_type": "code",
   "execution_count": 11,
   "id": "2a1aafab",
   "metadata": {},
   "outputs": [
    {
     "data": {
      "text/plain": [
       "type\n",
       "photo       260436\n",
       "sticker      47869\n",
       "text       2216315\n",
       "video        43491\n",
       "voice         8794\n",
       "Name: type, dtype: int64"
      ]
     },
     "execution_count": 11,
     "metadata": {},
     "output_type": "execute_result"
    }
   ],
   "source": [
    "df.groupby([\"type\"])[\"type\"].count()"
   ]
  },
  {
   "cell_type": "code",
   "execution_count": 12,
   "id": "66a677a9",
   "metadata": {},
   "outputs": [
    {
     "data": {
      "text/plain": [
       "type\n",
       "photo            0.0\n",
       "sticker          0.0\n",
       "text             0.0\n",
       "video      2533484.0\n",
       "voice       228398.0\n",
       "Name: duration, dtype: float64"
      ]
     },
     "execution_count": 12,
     "metadata": {},
     "output_type": "execute_result"
    }
   ],
   "source": [
    "df.groupby([\"type\"])[\"duration\"].sum()"
   ]
  },
  {
   "cell_type": "markdown",
   "id": "e24460df",
   "metadata": {},
   "source": [
    "## merging all dialogs_meta_data (json files) into one"
   ]
  },
  {
   "cell_type": "code",
   "execution_count": 13,
   "id": "3cecdc78",
   "metadata": {},
   "outputs": [],
   "source": [
    "df_array = []\n",
    "\n",
    "for d in dialogs_meta_data_files:\n",
    "    local_df = pd.read_json(d)\n",
    "    local_df = local_df.rename({'id': 'dialog_id'}, axis=1)\n",
    "    df_array.append(local_df)\n",
    "    \n",
    "df_meta = pd.concat(df_array, ignore_index=True)"
   ]
  },
  {
   "cell_type": "code",
   "execution_count": 14,
   "id": "6b458ce5",
   "metadata": {},
   "outputs": [],
   "source": [
    "df_meta.to_csv(f\"{MERGED_DATA_PATH}/dialogs_users_all.csv\", index=False)"
   ]
  },
  {
   "cell_type": "code",
   "execution_count": 15,
   "id": "313b23f0",
   "metadata": {},
   "outputs": [
    {
     "data": {
      "text/plain": [
       "(11868, 4)"
      ]
     },
     "execution_count": 15,
     "metadata": {},
     "output_type": "execute_result"
    }
   ],
   "source": [
    "df_meta.shape"
   ]
  },
  {
   "cell_type": "code",
   "execution_count": 16,
   "id": "ef6f51b9",
   "metadata": {},
   "outputs": [
    {
     "data": {
      "text/html": [
       "<div>\n",
       "<style scoped>\n",
       "    .dataframe tbody tr th:only-of-type {\n",
       "        vertical-align: middle;\n",
       "    }\n",
       "\n",
       "    .dataframe tbody tr th {\n",
       "        vertical-align: top;\n",
       "    }\n",
       "\n",
       "    .dataframe thead th {\n",
       "        text-align: right;\n",
       "    }\n",
       "</style>\n",
       "<table border=\"1\" class=\"dataframe\">\n",
       "  <thead>\n",
       "    <tr style=\"text-align: right;\">\n",
       "      <th></th>\n",
       "      <th>dialog_id</th>\n",
       "      <th>name</th>\n",
       "      <th>type</th>\n",
       "      <th>users</th>\n",
       "    </tr>\n",
       "  </thead>\n",
       "  <tbody>\n",
       "    <tr>\n",
       "      <th>0</th>\n",
       "      <td>-280495890</td>\n",
       "      <td>Дозор 32-го созива</td>\n",
       "      <td>Group</td>\n",
       "      <td>{'user_id': 255026222, 'first_name': 'Kyrylo',...</td>\n",
       "    </tr>\n",
       "    <tr>\n",
       "      <th>1</th>\n",
       "      <td>-280495890</td>\n",
       "      <td>Дозор 32-го созива</td>\n",
       "      <td>Group</td>\n",
       "      <td>{'user_id': 403299058, 'first_name': 'Vladysla...</td>\n",
       "    </tr>\n",
       "    <tr>\n",
       "      <th>2</th>\n",
       "      <td>-280495890</td>\n",
       "      <td>Дозор 32-го созива</td>\n",
       "      <td>Group</td>\n",
       "      <td>{'user_id': 365047140, 'first_name': 'Жёнушка'...</td>\n",
       "    </tr>\n",
       "    <tr>\n",
       "      <th>3</th>\n",
       "      <td>-280495890</td>\n",
       "      <td>Дозор 32-го созива</td>\n",
       "      <td>Group</td>\n",
       "      <td>{'user_id': 362015063, 'first_name': 'Маленька...</td>\n",
       "    </tr>\n",
       "    <tr>\n",
       "      <th>4</th>\n",
       "      <td>-280495890</td>\n",
       "      <td>Дозор 32-го созива</td>\n",
       "      <td>Group</td>\n",
       "      <td>{'user_id': 281396127, 'first_name': 'Обережно...</td>\n",
       "    </tr>\n",
       "    <tr>\n",
       "      <th>5</th>\n",
       "      <td>-280495890</td>\n",
       "      <td>Дозор 32-го созива</td>\n",
       "      <td>Group</td>\n",
       "      <td>{'user_id': 382015004, 'first_name': 'Сальпака...</td>\n",
       "    </tr>\n",
       "    <tr>\n",
       "      <th>6</th>\n",
       "      <td>506161961</td>\n",
       "      <td>Vladyslav Matus</td>\n",
       "      <td>Private dialog</td>\n",
       "      <td>{'user_id': 506161961, 'first_name': 'Vladysla...</td>\n",
       "    </tr>\n",
       "    <tr>\n",
       "      <th>7</th>\n",
       "      <td>-1001695031361</td>\n",
       "      <td>Могилянський Кібер-плац</td>\n",
       "      <td>Group</td>\n",
       "      <td>{'user_id': 255144521, 'first_name': 'Трон', '...</td>\n",
       "    </tr>\n",
       "    <tr>\n",
       "      <th>8</th>\n",
       "      <td>-1001695031361</td>\n",
       "      <td>Могилянський Кібер-плац</td>\n",
       "      <td>Group</td>\n",
       "      <td>{'user_id': 473669329, 'first_name': 'Кіпішна ...</td>\n",
       "    </tr>\n",
       "    <tr>\n",
       "      <th>9</th>\n",
       "      <td>-1001695031361</td>\n",
       "      <td>Могилянський Кібер-плац</td>\n",
       "      <td>Group</td>\n",
       "      <td>{'user_id': 670322433, 'first_name': 'Сах', 'l...</td>\n",
       "    </tr>\n",
       "  </tbody>\n",
       "</table>\n",
       "</div>"
      ],
      "text/plain": [
       "       dialog_id                     name            type  \\\n",
       "0     -280495890       Дозор 32-го созива           Group   \n",
       "1     -280495890       Дозор 32-го созива           Group   \n",
       "2     -280495890       Дозор 32-го созива           Group   \n",
       "3     -280495890       Дозор 32-го созива           Group   \n",
       "4     -280495890       Дозор 32-го созива           Group   \n",
       "5     -280495890       Дозор 32-го созива           Group   \n",
       "6      506161961          Vladyslav Matus  Private dialog   \n",
       "7 -1001695031361  Могилянський Кібер-плац           Group   \n",
       "8 -1001695031361  Могилянський Кібер-плац           Group   \n",
       "9 -1001695031361  Могилянський Кібер-плац           Group   \n",
       "\n",
       "                                               users  \n",
       "0  {'user_id': 255026222, 'first_name': 'Kyrylo',...  \n",
       "1  {'user_id': 403299058, 'first_name': 'Vladysla...  \n",
       "2  {'user_id': 365047140, 'first_name': 'Жёнушка'...  \n",
       "3  {'user_id': 362015063, 'first_name': 'Маленька...  \n",
       "4  {'user_id': 281396127, 'first_name': 'Обережно...  \n",
       "5  {'user_id': 382015004, 'first_name': 'Сальпака...  \n",
       "6  {'user_id': 506161961, 'first_name': 'Vladysla...  \n",
       "7  {'user_id': 255144521, 'first_name': 'Трон', '...  \n",
       "8  {'user_id': 473669329, 'first_name': 'Кіпішна ...  \n",
       "9  {'user_id': 670322433, 'first_name': 'Сах', 'l...  "
      ]
     },
     "execution_count": 16,
     "metadata": {},
     "output_type": "execute_result"
    }
   ],
   "source": [
    "df_meta.head(10)"
   ]
  },
  {
   "cell_type": "code",
   "execution_count": 17,
   "id": "186f2f67",
   "metadata": {},
   "outputs": [
    {
     "data": {
      "text/plain": [
       "type\n",
       "Channel             192\n",
       "Group             11167\n",
       "Private dialog      509\n",
       "Name: type, dtype: int64"
      ]
     },
     "execution_count": 17,
     "metadata": {},
     "output_type": "execute_result"
    }
   ],
   "source": [
    "df_meta.groupby([\"type\"])[\"type\"].count()"
   ]
  },
  {
   "cell_type": "code",
   "execution_count": null,
   "id": "36bc5268",
   "metadata": {},
   "outputs": [],
   "source": []
  }
 ],
 "metadata": {
  "kernelspec": {
   "display_name": "Python 3 (ipykernel)",
   "language": "python",
   "name": "python3"
  },
  "language_info": {
   "codemirror_mode": {
    "name": "ipython",
    "version": 3
   },
   "file_extension": ".py",
   "mimetype": "text/x-python",
   "name": "python",
   "nbconvert_exporter": "python",
   "pygments_lexer": "ipython3",
   "version": "3.9.12"
  }
 },
 "nbformat": 4,
 "nbformat_minor": 5
}